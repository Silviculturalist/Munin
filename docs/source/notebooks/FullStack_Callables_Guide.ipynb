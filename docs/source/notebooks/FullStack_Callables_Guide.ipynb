{
  "cells": [
    {
      "cell_type": "markdown",
      "metadata": {},
      "source": [
        "# Composable Callables & Full‑Stack `GrowthModel` — Practical Guide\n",
        "\n",
        "This notebook shows how to:\n",
        "\n",
        "1. **Wrap scientific models as `Callable`s** (e.g., Elfving 2010 DBH increment, Söderberg 1986 heights,\n",
        "   Fridman–Ståhl 2006 mortality, and Edgren–Nylinder 1949 taper + a `PriceList`).\n",
        "2. Build a **full‑stack `GrowthModel`** that runs all components inside `grow()`.\n",
        "3. Use the **factory** to adapt Angle‑Count stands (Bitterlich) to safe working inventories.\n",
        "4. Run the **DSL** controller (triggers/schedules).\n",
        "5. Broadcast aggregate runs with the **ContextEnsemble** (Python/Numba/JAX engines).\n",
        "\n",
        "> All types and utilities come from `pyforestry.base.simulation` & `pyforestry.base.helpers`.\n",
        "Everything lives in `base/` as per the project conventions."
      ]
    },
    {
      "cell_type": "markdown",
      "metadata": {},
      "source": [
        "## 1) Imports & quick recap\n",
        "\n",
        "- `GrowthModel` is the **factory + behavior**.\n",
        "- `SimulationContext` is the **sandbox** (all mutation + history live here).\n",
        "- `SimulationSetup` is the **controller** (pre/post triggers, schedules).\n",
        "- `AdapterRegistry` provides **Angle‑Count → pseudo tree‑list/spatial/diameter‑class** adapters.\n",
        "- `ContextEnsemble` broadcasts aggregate steps through a **batch engine** (Python/Numba/JAX)."
      ]
    },
    {
      "cell_type": "code",
      "execution_count": 4,
      "metadata": {},
      "outputs": [
        {
          "ename": "ModuleNotFoundError",
          "evalue": "No module named 'pyforestry'",
          "output_type": "error",
          "traceback": [
            "\u001b[31m---------------------------------------------------------------------------\u001b[39m",
            "\u001b[31mModuleNotFoundError\u001b[39m                       Traceback (most recent call last)",
            "\u001b[36mCell\u001b[39m\u001b[36m \u001b[39m\u001b[32mIn[4]\u001b[39m\u001b[32m, line 4\u001b[39m\n\u001b[32m      1\u001b[39m \u001b[38;5;28;01mfrom\u001b[39;00m\u001b[38;5;250m \u001b[39m\u001b[34;01mtyping\u001b[39;00m\u001b[38;5;250m \u001b[39m\u001b[38;5;28;01mimport\u001b[39;00m Callable, Optional, Any, Dict\n\u001b[32m      2\u001b[39m \u001b[38;5;28;01mfrom\u001b[39;00m\u001b[38;5;250m \u001b[39m\u001b[34;01mdataclasses\u001b[39;00m\u001b[38;5;250m \u001b[39m\u001b[38;5;28;01mimport\u001b[39;00m dataclass\n\u001b[32m----> \u001b[39m\u001b[32m4\u001b[39m \u001b[38;5;28;01mfrom\u001b[39;00m\u001b[38;5;250m \u001b[39m\u001b[34;01mpyforestry\u001b[39;00m\u001b[34;01m.\u001b[39;00m\u001b[34;01mbase\u001b[39;00m\u001b[34;01m.\u001b[39;00m\u001b[34;01msimulation\u001b[39;00m\u001b[38;5;250m \u001b[39m\u001b[38;5;28;01mimport\u001b[39;00m (\n\u001b[32m      5\u001b[39m     GrowthModel, Requirements, SimulationSetup, TriggerSpec, SimulationContext,\n\u001b[32m      6\u001b[39m     AdapterRegistry, ContextEnsemble, PythonEngine\n\u001b[32m      7\u001b[39m )\n\u001b[32m      8\u001b[39m \u001b[38;5;28;01mfrom\u001b[39;00m\u001b[38;5;250m \u001b[39m\u001b[34;01mpyforestry\u001b[39;00m\u001b[34;01m.\u001b[39;00m\u001b[34;01mbase\u001b[39;00m\u001b[34;01m.\u001b[39;00m\u001b[34;01mhelpers\u001b[39;00m\u001b[38;5;250m \u001b[39m\u001b[38;5;28;01mimport\u001b[39;00m (\n\u001b[32m      9\u001b[39m     Stand, CircularPlot, Tree, PICEA_ABIES, PINUS_SYLVESTRIS, AngleCount\n\u001b[32m     10\u001b[39m )\n",
            "\u001b[31mModuleNotFoundError\u001b[39m: No module named 'pyforestry'"
          ]
        }
      ],
      "source": [
        "from typing import Callable, Optional, Any, Dict\n",
        "from dataclasses import dataclass\n",
        "\n",
        "from pyforestry.base.simulation import (\n",
        "    GrowthModel, Requirements, SimulationSetup, TriggerSpec, SimulationContext,\n",
        "    AdapterRegistry, ContextEnsemble, PythonEngine\n",
        ")\n",
        "from pyforestry.base.helpers import (\n",
        "    Stand, CircularPlot, Tree, PICEA_ABIES, PINUS_SYLVESTRIS, AngleCount\n",
        ")"
      ]
    },
    {
      "cell_type": "markdown",
      "metadata": {},
      "source": [
        "## 2) Define the scientific components as `Callable`s\n",
        "\n",
        "We keep each study/model as a function. In production, you’ll call your real implementations here."
      ]
    },
    {
      "cell_type": "code",
      "execution_count": null,
      "metadata": {},
      "outputs": [],
      "source": [
        "# Signatures (type hints are for clarity; not strictly required)\n",
        "ElfvingDbhIncrementFn = Callable[[Any, float, Optional[float], Any, float, Dict[str, Any]], float]\n",
        "SoderbergHeightFn     = Callable[[Any, float, Any, Optional[float]], float]\n",
        "FridmanStahlSurvivalFn= Callable[[Any, float, Optional[float], Any, float, Dict[str, Any]], float]\n",
        "EdgrenNylinderVolFn   = Callable[[Any, float, float, Any], float]\n",
        "PriceFn               = Callable[[Any, float, Any], float]\n",
        "\n",
        "# --- Replace these with your calibrated implementations ---\n",
        "def elfving_dbh_increment(sp, dbh_cm, h_m, site, dt, state):\n",
        "    # Δdbh in cm over dt years (placeholder)\n",
        "    return 0.25 * dt\n",
        "\n",
        "def soderberg_height(sp, dbh_cm, site, age):\n",
        "    # height in m from DBH (placeholder)\n",
        "    return max(1.3, 1.3 + 0.6 * (dbh_cm ** 0.5))\n",
        "\n",
        "def fridman_stahl_survival(sp, dbh_cm, h_m, site, dt, state):\n",
        "    # survival fraction in [0,1] for the step (placeholder)\n",
        "    return max(0.0, min(1.0, 1.0 - 0.006 * dt))\n",
        "\n",
        "def edgren_nylinder_volume(sp, dbh_cm, h_m, site):\n",
        "    # taper-based whole-stem volume in m3 (placeholder)\n",
        "    return 0.00007854 * (dbh_cm ** 2) * h_m\n",
        "\n",
        "def price_list(sp, vol_m3, site):\n",
        "    # SEK per m3 (placeholder)\n",
        "    return 500.0"
      ]
    },
    {
      "cell_type": "markdown",
      "metadata": {},
      "source": [
        "## 3) A full‑stack `GrowthModel` that chains the callables inside `grow()`\n",
        "\n",
        "This model prefers `tree_list`/`spatial` inventories. If the input Stand uses **Angle‑Count**, we’ll ask the factory to adapt to a pseudo tree‑list so per-tree operations work safely."
      ]
    },
    {
      "cell_type": "code",
      "execution_count": null,
      "metadata": {},
      "outputs": [],
      "source": [
        "@dataclass\n",
        "class FullStackCallableModel(GrowthModel):\n",
        "    dbh_increment_fn: ElfvingDbhIncrementFn\n",
        "    height_fn:       SoderbergHeightFn\n",
        "    survival_fn:     FridmanStahlSurvivalFn\n",
        "    volume_fn:       EdgrenNylinderVolFn\n",
        "    price_fn:        PriceFn\n",
        "    remove_zero_weight: bool = True\n",
        "\n",
        "    def requirements(self) -> Requirements:\n",
        "        # We need per-tree inventories to run taper/price properly.\n",
        "        return Requirements(inventory=\"tree_list\")\n",
        "\n",
        "    def grow(self, ctx: SimulationContext, dt: float) -> None:\n",
        "        if ctx.mode not in (\"tree_list\", \"spatial\"):\n",
        "            raise RuntimeError(f\"{self.__class__.__name__} requires per-tree mode; got {ctx.mode}.\")\n",
        "        ctx.state[\"years_since_thin\"] = ctx.state.get(\"years_since_thin\", 0.0) + dt\n",
        "        step_value = 0.0\n",
        "        for p in ctx.plots:\n",
        "            for t in p.trees:\n",
        "                sp = getattr(t, \"species\", None)\n",
        "                if sp is None:\n",
        "                    continue\n",
        "                dbh = float(getattr(t, \"diameter_cm\", 0.0) or 0.0)\n",
        "                h   = float(getattr(t, \"height_m\",   0.0) or 0.0)\n",
        "                age = getattr(t, \"age\", None)\n",
        "\n",
        "                # 1) DBH increment (Elfving 2010)\n",
        "                ddbh = float(self.dbh_increment_fn(sp, dbh, (h if h > 0 else None), ctx.site, dt, ctx.state))\n",
        "                dbh = max(0.0, dbh + ddbh)\n",
        "                t.diameter_cm = dbh\n",
        "\n",
        "                # 2) Height update (Söderberg 1986)\n",
        "                h = float(self.height_fn(sp, dbh, ctx.site, age))\n",
        "                t.height_m = h\n",
        "\n",
        "                # 3) Mortality (Fridman–Ståhl 2006)\n",
        "                surv = float(self.survival_fn(sp, dbh, h, ctx.site, dt, ctx.state))\n",
        "                surv = 0.0 if surv < 0.0 else (1.0 if surv > 1.0 else surv)\n",
        "                t.weight_n = float(getattr(t, \"weight_n\", 1.0)) * surv\n",
        "\n",
        "                # 4) Value (Edgren–Nylinder 1949 taper + PriceList)\n",
        "                if dbh > 0.0 and h > 0.0 and t.weight_n > 0.0:\n",
        "                    vol_m3 = float(self.volume_fn(sp, dbh, h, ctx.site))\n",
        "                    price  = float(self.price_fn(sp, vol_m3, ctx.site))\n",
        "                    step_value += vol_m3 * price * float(t.weight_n)\n",
        "\n",
        "        if self.remove_zero_weight:\n",
        "            for p in ctx.plots:\n",
        "                p.trees = [t for t in p.trees if float(getattr(t, \"weight_n\", 0.0) or 0.0) > 1e-9]\n",
        "\n",
        "        ctx.state[\"last_step_value_SEK_per_ha\"] = step_value\n",
        "        ctx.state[\"cum_value_SEK_per_ha\"] = ctx.state.get(\"cum_value_SEK_per_ha\", 0.0) + step_value"
      ]
    },
    {
      "cell_type": "markdown",
      "metadata": {},
      "source": [
        "## 4) Build a Stand and run the model via the DSL\n",
        "\n",
        "We’ll use a small synthetic tree‑list Stand. The `GrowthModel` factory builds a sandboxed `SimulationContext` for us and the `SimulationSetup` orchestrates the run."
      ]
    },
    {
      "cell_type": "code",
      "execution_count": null,
      "metadata": {},
      "outputs": [],
      "source": [
        "# --- A tiny tree-list stand ---\n",
        "stand = Stand(\n",
        "    area_ha=1.0,\n",
        "    plots=[\n",
        "        CircularPlot(id=1, area_m2=200.0, trees=[\n",
        "            Tree(species=PICEA_ABIES, diameter_cm=20.0, height_m=15.0, weight_n=6),\n",
        "            Tree(species=PICEA_ABIES, diameter_cm=18.0, height_m=13.0, weight_n=5),\n",
        "        ])\n",
        "    ],\n",
        ")\n",
        "\n",
        "model = FullStackCallableModel(\n",
        "    dbh_increment_fn=elfving_dbh_increment,\n",
        "    height_fn=soderberg_height,\n",
        "    survival_fn=fridman_stahl_survival,\n",
        "    volume_fn=edgren_nylinder_volume,\n",
        "    price_fn=price_list,\n",
        ")\n",
        "\n",
        "ok, missing = model.can_build(stand, allow_adapters=True, mode_hint=\"tree_list\")\n",
        "assert ok, f\"missing: {missing}\"\n",
        "ctx = model.build_context(stand, mode_hint=\"tree_list\")\n",
        "\n",
        "setup = SimulationSetup(start_t=0.0, end_t=10.0, dt=1.0)\n",
        "setup.run(ctx)\n",
        "print(\"Cumulative value (SEK/ha):\", ctx.state.get(\"cum_value_SEK_per_ha\", 0.0))\n",
        "ctx.to_pandas().tail()"
      ]
    },
    {
      "cell_type": "markdown",
      "metadata": {},
      "source": [
        "## 5) Angle‑Count stands → pseudo tree‑lists (safe adapter)\n",
        "\n",
        "If the Stand carries Bitterlich tallies, you can still run per‑tree logic by **opting in** to a pseudo tree‑list at build time (your original Stand stays immutable)."
      ]
    },
    {
      "cell_type": "code",
      "execution_count": null,
      "metadata": {},
      "outputs": [],
      "source": [
        "# --- Bitterlich tally stand ---\n",
        "ac_plot = CircularPlot(id=\"ac1\", area_m2=10000.0, AngleCount=[\n",
        "    AngleCount(ba_factor=10.0, species=[PICEA_ABIES, PINUS_SYLVESTRIS], value=[3.0, 2.0])\n",
        "])\n",
        "ac_stand = Stand(area_ha=1.0, plots=[ac_plot])\n",
        "\n",
        "ok, missing = model.can_build(ac_stand, allow_adapters=True, mode_hint=\"tree_list\")\n",
        "assert ok, missing\n",
        "ctx_ac = model.build_context(ac_stand, mode_hint=\"tree_list\")  # auto AC→pseudo tree-list\n",
        "\n",
        "SimulationSetup(0.0, 5.0, 1.0).run(ctx_ac)\n",
        "print(\"Inventory origin:\", ctx_ac.attrs.get(\"inventory_origin\"))\n",
        "ctx_ac.to_pandas().head(3)"
      ]
    },
    {
      "cell_type": "markdown",
      "metadata": {},
      "source": [
        "## 6) Using triggers/schedules (DSL)\n",
        "\n",
        "You can still add management actions with the DSL. Here we add a simple **post** trigger that prints a message whenever QMD exceeds a threshold (placeholder for a thinning action)."
      ]
    },
    {
      "cell_type": "code",
      "execution_count": null,
      "metadata": {},
      "outputs": [],
      "source": [
        "def qmd_exceeds(ctx: SimulationContext, threshold_cm: float = 22.0) -> bool:\n",
        "    return float(ctx.metrics[\"QMD\"][\"TOTAL\"]) > threshold_cm\n",
        "\n",
        "def announce(ctx: SimulationContext):\n",
        "    print(f\"t={ctx.state['t']:.1f} → QMD now {float(ctx.metrics['QMD']['TOTAL']):.2f} cm\")\n",
        "\n",
        "trg = TriggerSpec(\n",
        "    name=\"qmd_watch\",\n",
        "    check_phase=\"post\",\n",
        "    predicate=lambda c: qmd_exceeds(c, 22.0),\n",
        "    action=announce,\n",
        "    once=False,\n",
        ")\n",
        "\n",
        "ctx2 = model.build_context(stand, mode_hint=\"tree_list\")\n",
        "SimulationSetup(start_t=0.0, end_t=5.0, dt=1.0, triggers=[trg]).run(ctx2)"
      ]
    },
    {
      "cell_type": "markdown",
      "metadata": {},
      "source": [
        "## 7) Vectorized aggregate runs with `ContextEnsemble`\n",
        "\n",
        "If you also keep an **aggregate** approximation of your model, you can opt in to the batch engine by\n",
        "implementing `has_batch_engine()` and `batch_grow_step(ba, n, dt, fert_mask)`."
      ]
    },
    {
      "cell_type": "code",
      "execution_count": null,
      "metadata": {},
      "outputs": [],
      "source": [
        "import numpy as np\n",
        "\n",
        "class AggregateBANModel(GrowthModel):\n",
        "    def __init__(self, ba_rel_per_year=0.03, mort_per_year=0.006):\n",
        "        self.ba_rel = ba_rel_per_year\n",
        "        self.mort = mort_per_year\n",
        "    def requirements(self) -> Requirements:\n",
        "        return Requirements(inventory=\"aggregate\")\n",
        "    def has_batch_engine(self) -> bool:\n",
        "        return True\n",
        "    def batch_grow_step(self, ba: np.ndarray, n: np.ndarray, dt: float, fert_mask: np.ndarray):\n",
        "        # Simple BA relative growth and mortality on N (vectorized)\n",
        "        ba2 = ba * (1.0 + self.ba_rel * dt)\n",
        "        n2  = n  * (1.0 - self.mort * dt)\n",
        "        return ba2, n2\n",
        "    def grow(self, ctx: SimulationContext, dt: float) -> None:\n",
        "        # Fallback scalar (rarely used when batched)\n",
        "        ba = float(ctx.metrics[\"BasalArea\"][\"TOTAL\"]) * (1.0 + self.ba_rel * dt)\n",
        "        n  = float(ctx.metrics[\"Stems\"][\"TOTAL\"]) * (1.0 - self.mort * dt)\n",
        "        ctx.set_aggregate_metrics(ba_total=ba, stems_total=n)\n",
        "\n",
        "agg_model = AggregateBANModel()\n",
        "\n",
        "# Build a few contexts in aggregate mode (force with mode_hint)\n",
        "stands = [stand, stand]  # reuse same stand for brevity\n",
        "agg_contexts = []\n",
        "for s in stands:\n",
        "    ok, _ = agg_model.can_build(s, mode_hint=\"aggregate\")\n",
        "    ctxa = agg_model.build_context(s, mode_hint=\"aggregate\")\n",
        "    agg_contexts.append(ctxa)\n",
        "\n",
        "ens = ContextEnsemble(contexts=agg_contexts, model=agg_model)\n",
        "for _ in range(5):\n",
        "    ens.grow(1.0)\n",
        "\n",
        "ens.to_pandas().tail()"
      ]
    },
    {
      "cell_type": "markdown",
      "metadata": {},
      "source": [
        "## 8) Wrap‑up\n",
        "\n",
        "- Keep **each scientific component** testable as a `Callable`.\n",
        "- The **full‑stack model** chains them in one place (`grow`).\n",
        "- The **factory** adapts inventories (Angle‑Count → pseudo tree‑list) when you ask for per‑tree modes.\n",
        "- The **DSL** orchestrates **when** things happen; history is logged on every step.\n",
        "- For many aggregate scenarios, opt‑in to the **batch engine** by exposing `batch_grow_step`."
      ]
    }
  ],
  "metadata": {
    "kernelspec": {
      "display_name": "Munin",
      "language": "python",
      "name": "python3"
    },
    "language_info": {
      "codemirror_mode": {
        "name": "ipython",
        "version": 3
      },
      "file_extension": ".py",
      "mimetype": "text/x-python",
      "name": "python",
      "nbconvert_exporter": "python",
      "pygments_lexer": "ipython3",
      "version": "3.13.2"
    }
  },
  "nbformat": 4,
  "nbformat_minor": 5
}
