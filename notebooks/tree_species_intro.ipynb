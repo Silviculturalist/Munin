{
 "cells": [
  {
   "cell_type": "markdown",
   "id": "76e70e86",
   "metadata": {},
   "source": [
    "# Tree species basics"
   ]
  },
  {
   "cell_type": "markdown",
   "id": "fd9648e4",
   "metadata": {},
   "source": [
    "This notebook shows how to retrieve species using `TreeSpecies` and inspect the underlying `TreeName` objects."
   ]
  },
  {
   "cell_type": "code",
   "execution_count": 1,
   "id": "e2244f26",
   "metadata": {
    "execution": {
     "iopub.execute_input": "2025-07-17T08:15:27.283269Z",
     "iopub.status.busy": "2025-07-17T08:15:27.283058Z",
     "iopub.status.idle": "2025-07-17T08:15:27.646861Z",
     "shell.execute_reply": "2025-07-17T08:15:27.646126Z"
    }
   },
   "outputs": [],
   "source": [
    "from pyforestry.base.helpers.tree_species import (\n",
    "    TreeSpecies,\n",
    "    TreeName,\n",
    "    parse_tree_species,\n",
    "    ALNUS_GLUTINOSA,\n",
    "    ALNUS_INCANA,\n",
    ")\n"
   ]
  },
  {
   "cell_type": "markdown",
   "id": "a5cded20",
   "metadata": {},
   "source": [
    "`TreeSpecies` exposes region-specific namespaces. Each attribute is a `TreeName` instance."
   ]
  },
  {
   "cell_type": "code",
   "execution_count": 2,
   "id": "369d91a0",
   "metadata": {
    "execution": {
     "iopub.execute_input": "2025-07-17T08:15:27.649423Z",
     "iopub.status.busy": "2025-07-17T08:15:27.648858Z",
     "iopub.status.idle": "2025-07-17T08:15:27.654905Z",
     "shell.execute_reply": "2025-07-17T08:15:27.654347Z"
    }
   },
   "outputs": [
    {
     "data": {
      "text/plain": [
       "TreeName(genus=TreeGenus(name='Pinus', code='PINUS'), species_name='sylvestris', code='PSYL')"
      ]
     },
     "execution_count": 2,
     "metadata": {},
     "output_type": "execute_result"
    }
   ],
   "source": [
    "TreeSpecies.Sweden.pinus_sylvestris\n"
   ]
  },
  {
   "cell_type": "code",
   "execution_count": 3,
   "id": "96d5757e",
   "metadata": {
    "execution": {
     "iopub.execute_input": "2025-07-17T08:15:27.656868Z",
     "iopub.status.busy": "2025-07-17T08:15:27.656537Z",
     "iopub.status.idle": "2025-07-17T08:15:27.660525Z",
     "shell.execute_reply": "2025-07-17T08:15:27.659941Z"
    }
   },
   "outputs": [
    {
     "data": {
      "text/plain": [
       "[TreeName(genus=TreeGenus(name='Pinus', code='PINUS'), species_name='sylvestris', code='PSYL'),\n",
       " TreeName(genus=TreeGenus(name='Pinus', code='PINUS'), species_name='contorta', code='PCON'),\n",
       " TreeName(genus=TreeGenus(name='Pinus', code='PINUS'), species_name='mugo', code='PMUG')]"
      ]
     },
     "execution_count": 3,
     "metadata": {},
     "output_type": "execute_result"
    }
   ],
   "source": [
    "TreeSpecies.Sweden.pinus.full_name\n",
    "list(TreeSpecies.Sweden.pinus)\n"
   ]
  },
  {
   "cell_type": "markdown",
   "id": "fa463fe0",
   "metadata": {},
   "source": [
    "Strings can be converted to `TreeName` objects using `parse_tree_species()`."
   ]
  },
  {
   "cell_type": "code",
   "execution_count": 4,
   "id": "db1cb4d7",
   "metadata": {
    "execution": {
     "iopub.execute_input": "2025-07-17T08:15:27.662364Z",
     "iopub.status.busy": "2025-07-17T08:15:27.662009Z",
     "iopub.status.idle": "2025-07-17T08:15:27.665736Z",
     "shell.execute_reply": "2025-07-17T08:15:27.665265Z"
    }
   },
   "outputs": [
    {
     "data": {
      "text/plain": [
       "True"
      ]
     },
     "execution_count": 4,
     "metadata": {},
     "output_type": "execute_result"
    }
   ],
   "source": [
    "parse_tree_species('Pinus sylvestris')\n",
    "parse_tree_species('pInus sylvestris') == TreeSpecies.Sweden.pinus_sylvestris\n"
   ]
  },
  {
   "cell_type": "markdown",
   "id": "2fdf4002",
   "metadata": {},
   "source": [
    "`TreeName` holds genus and species information and can be compared directly. `TreeSpecies` simply provides organized access to these objects."
   ]
  },
  {
   "cell_type": "code",
   "execution_count": 5,
   "id": "777ecb1b",
   "metadata": {
    "execution": {
     "iopub.execute_input": "2025-07-17T08:15:27.667427Z",
     "iopub.status.busy": "2025-07-17T08:15:27.667244Z",
     "iopub.status.idle": "2025-07-17T08:15:27.670765Z",
     "shell.execute_reply": "2025-07-17T08:15:27.670306Z"
    }
   },
   "outputs": [
    {
     "data": {
      "text/plain": [
       "pyforestry.base.helpers.tree_species.RegionalTreeSpecies"
      ]
     },
     "execution_count": 5,
     "metadata": {},
     "output_type": "execute_result"
    }
   ],
   "source": [
    "isinstance(TreeSpecies.Sweden.pinus_sylvestris, TreeName)\n",
    "type(TreeSpecies.Sweden)\n"
   ]
  },
  {
   "cell_type": "markdown",
   "id": "9061cced",
   "metadata": {},
   "source": [
    "Genus groups act like containers. We can check membership just like in the tests."
   ]
  },
  {
   "cell_type": "code",
   "execution_count": 6,
   "id": "3a451ff6",
   "metadata": {
    "execution": {
     "iopub.execute_input": "2025-07-17T08:15:27.672590Z",
     "iopub.status.busy": "2025-07-17T08:15:27.672236Z",
     "iopub.status.idle": "2025-07-17T08:15:27.675735Z",
     "shell.execute_reply": "2025-07-17T08:15:27.675272Z"
    }
   },
   "outputs": [
    {
     "data": {
      "text/plain": [
       "True"
      ]
     },
     "execution_count": 6,
     "metadata": {},
     "output_type": "execute_result"
    }
   ],
   "source": [
    "ALNUS_GLUTINOSA in TreeSpecies.Sweden.alnus\n",
    "ALNUS_INCANA in TreeSpecies.Sweden.alnus\n"
   ]
  }
 ],
 "metadata": {
  "kernelspec": {
   "display_name": "Python 3",
   "language": "python",
   "name": "python3"
  },
  "language_info": {
   "codemirror_mode": {
    "name": "ipython",
    "version": 3
   },
   "file_extension": ".py",
   "mimetype": "text/x-python",
   "name": "python",
   "nbconvert_exporter": "python",
   "pygments_lexer": "ipython3",
   "version": "3.12.11"
  }
 },
 "nbformat": 4,
 "nbformat_minor": 5
}
