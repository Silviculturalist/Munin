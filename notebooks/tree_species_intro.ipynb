{
 "cells": [
  {
   "cell_type": "markdown",
   "id": "7f08bcc7",
   "metadata": {},
   "source": [
    "# Tree species basics"
   ]
  },
  {
   "cell_type": "markdown",
   "id": "d4dd5f8e",
   "metadata": {},
   "source": [
    "This notebook shows how to retrieve species using `TreeSpecies` and inspect the underlying `TreeName` objects."
   ]
  },
  {
   "cell_type": "code",
   "execution_count": 1,
   "id": "3670a82d",
   "metadata": {
    "execution": {
     "iopub.execute_input": "2025-07-17T17:12:50.237592Z",
     "iopub.status.busy": "2025-07-17T17:12:50.237413Z",
     "iopub.status.idle": "2025-07-17T17:12:50.597850Z",
     "shell.execute_reply": "2025-07-17T17:12:50.597158Z"
    }
   },
   "outputs": [],
   "source": [
    "from pyforestry.base.helpers.tree_species import (\n",
    "    TreeSpecies,\n",
    "    TreeName,\n",
    "    parse_tree_species,\n",
    "    ALNUS_GLUTINOSA,\n",
    "    ALNUS_INCANA,\n",
    ")\n"
   ]
  },
  {
   "cell_type": "markdown",
   "id": "983749f9",
   "metadata": {},
   "source": [
    "`TreeSpecies` exposes region-specific namespaces. Each attribute is a `TreeName` instance."
   ]
  },
  {
   "cell_type": "code",
   "execution_count": 2,
   "id": "a757c95d",
   "metadata": {
    "execution": {
     "iopub.execute_input": "2025-07-17T17:12:50.600199Z",
     "iopub.status.busy": "2025-07-17T17:12:50.599790Z",
     "iopub.status.idle": "2025-07-17T17:12:50.605694Z",
     "shell.execute_reply": "2025-07-17T17:12:50.605096Z"
    }
   },
   "outputs": [
    {
     "data": {
      "text/plain": [
       "TreeName(genus=TreeGenus(name='Pinus', code='PINUS'), species_name='sylvestris', code='PSYL')"
      ]
     },
     "execution_count": 2,
     "metadata": {},
     "output_type": "execute_result"
    }
   ],
   "source": [
    "TreeSpecies.Sweden.pinus_sylvestris\n"
   ]
  },
  {
   "cell_type": "code",
   "execution_count": 3,
   "id": "545b8976",
   "metadata": {
    "execution": {
     "iopub.execute_input": "2025-07-17T17:12:50.607696Z",
     "iopub.status.busy": "2025-07-17T17:12:50.607189Z",
     "iopub.status.idle": "2025-07-17T17:12:50.611256Z",
     "shell.execute_reply": "2025-07-17T17:12:50.610689Z"
    }
   },
   "outputs": [
    {
     "data": {
      "text/plain": [
       "[TreeName(genus=TreeGenus(name='Pinus', code='PINUS'), species_name='sylvestris', code='PSYL'),\n",
       " TreeName(genus=TreeGenus(name='Pinus', code='PINUS'), species_name='contorta', code='PCON'),\n",
       " TreeName(genus=TreeGenus(name='Pinus', code='PINUS'), species_name='mugo', code='PMUG')]"
      ]
     },
     "execution_count": 3,
     "metadata": {},
     "output_type": "execute_result"
    }
   ],
   "source": [
    "TreeSpecies.Sweden.pinus.full_name\n",
    "list(TreeSpecies.Sweden.pinus)\n"
   ]
  },
  {
   "cell_type": "markdown",
   "id": "372ff760",
   "metadata": {},
   "source": [
    "Strings can be converted to `TreeName` objects using `parse_tree_species()`."
   ]
  },
  {
   "cell_type": "code",
   "execution_count": 4,
   "id": "fbec2bee",
   "metadata": {
    "execution": {
     "iopub.execute_input": "2025-07-17T17:12:50.613080Z",
     "iopub.status.busy": "2025-07-17T17:12:50.612904Z",
     "iopub.status.idle": "2025-07-17T17:12:50.616329Z",
     "shell.execute_reply": "2025-07-17T17:12:50.615857Z"
    }
   },
   "outputs": [
    {
     "data": {
      "text/plain": [
       "True"
      ]
     },
     "execution_count": 4,
     "metadata": {},
     "output_type": "execute_result"
    }
   ],
   "source": [
    "parse_tree_species('Pinus sylvestris')\n",
    "parse_tree_species('pInus sylvestris') == TreeSpecies.Sweden.pinus_sylvestris\n"
   ]
  },
  {
   "cell_type": "markdown",
   "id": "a56719c1",
   "metadata": {},
   "source": [
    "`TreeName` holds genus and species information and can be compared directly. `TreeSpecies` simply provides organized access to these objects."
   ]
  },
  {
   "cell_type": "code",
   "execution_count": 5,
   "id": "c3e7ec3f",
   "metadata": {
    "execution": {
     "iopub.execute_input": "2025-07-17T17:12:50.618068Z",
     "iopub.status.busy": "2025-07-17T17:12:50.617885Z",
     "iopub.status.idle": "2025-07-17T17:12:50.621500Z",
     "shell.execute_reply": "2025-07-17T17:12:50.621042Z"
    }
   },
   "outputs": [
    {
     "data": {
      "text/plain": [
       "pyforestry.base.helpers.tree_species.RegionalTreeSpecies"
      ]
     },
     "execution_count": 5,
     "metadata": {},
     "output_type": "execute_result"
    }
   ],
   "source": [
    "isinstance(TreeSpecies.Sweden.pinus_sylvestris, TreeName)\n",
    "type(TreeSpecies.Sweden)\n"
   ]
  },
  {
   "cell_type": "markdown",
   "id": "0039e0ee",
   "metadata": {},
   "source": [
    "Genus groups act like containers. We can check membership just like in the tests."
   ]
  },
  {
   "cell_type": "code",
   "execution_count": 6,
   "id": "7e3347c1",
   "metadata": {
    "execution": {
     "iopub.execute_input": "2025-07-17T17:12:50.623196Z",
     "iopub.status.busy": "2025-07-17T17:12:50.623017Z",
     "iopub.status.idle": "2025-07-17T17:12:50.626867Z",
     "shell.execute_reply": "2025-07-17T17:12:50.626272Z"
    }
   },
   "outputs": [
    {
     "data": {
      "text/plain": [
       "True"
      ]
     },
     "execution_count": 6,
     "metadata": {},
     "output_type": "execute_result"
    }
   ],
   "source": [
    "ALNUS_GLUTINOSA in TreeSpecies.Sweden.alnus\n",
    "ALNUS_INCANA in TreeSpecies.Sweden.alnus\n"
   ]
  }
 ],
 "metadata": {
  "kernelspec": {
   "display_name": "Python 3",
   "language": "python",
   "name": "python3"
  },
  "language_info": {
   "codemirror_mode": {
    "name": "ipython",
    "version": 3
   },
   "file_extension": ".py",
   "mimetype": "text/x-python",
   "name": "python",
   "nbconvert_exporter": "python",
   "pygments_lexer": "ipython3",
   "version": "3.12.11"
  }
 },
 "nbformat": 4,
 "nbformat_minor": 5
}
