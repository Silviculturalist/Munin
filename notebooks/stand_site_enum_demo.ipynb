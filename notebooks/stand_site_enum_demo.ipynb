{
 "cells": [
  {
   "cell_type": "markdown",
   "id": "8dd124ca",
   "metadata": {},
   "source": [
    "# Stand metrics and site enums"
   ]
  },
  {
   "cell_type": "markdown",
   "id": "1fa81e2e",
   "metadata": {},
   "source": [
    "This notebook shows how to work with circular plots, site enums, and site index models."
   ]
  },
  {
   "cell_type": "code",
   "execution_count": 1,
   "id": "00c34f8f",
   "metadata": {
    "execution": {
     "iopub.execute_input": "2025-07-17T17:14:20.683725Z",
     "iopub.status.busy": "2025-07-17T17:14:20.683544Z",
     "iopub.status.idle": "2025-07-17T17:14:21.035942Z",
     "shell.execute_reply": "2025-07-17T17:14:21.035334Z"
    }
   },
   "outputs": [
    {
     "data": {
      "text/plain": [
       "(12.75, 254.64790894703253)"
      ]
     },
     "execution_count": 1,
     "metadata": {},
     "output_type": "execute_result"
    }
   ],
   "source": [
    "from pyforestry.base.helpers import CircularPlot, RepresentationTree, Stand, parse_tree_species\n",
    "\n",
    "plot1 = CircularPlot(id=1, radius_m=5.0, trees=[\n",
    "    RepresentationTree(species=parse_tree_species('picea abies'), diameter_cm=20),\n",
    "    RepresentationTree(species=parse_tree_species('pinus sylvestris'), diameter_cm=25),\n",
    "])\n",
    "plot2 = CircularPlot(id=2, radius_m=5.0, trees=[\n",
    "    RepresentationTree(species=parse_tree_species('picea abies'), diameter_cm=30),\n",
    "])\n",
    "stand = Stand(plots=[plot1, plot2])\n",
    "stand.BasalArea.TOTAL.value, stand.Stems.TOTAL.value\n"
   ]
  },
  {
   "cell_type": "markdown",
   "id": "30d880b3",
   "metadata": {},
   "source": [
    "Site enums help provide structured parameters."
   ]
  },
  {
   "cell_type": "code",
   "execution_count": 2,
   "id": "bc90ea4c",
   "metadata": {
    "execution": {
     "iopub.execute_input": "2025-07-17T17:14:21.038134Z",
     "iopub.status.busy": "2025-07-17T17:14:21.037721Z",
     "iopub.status.idle": "2025-07-17T17:14:21.051550Z",
     "shell.execute_reply": "2025-07-17T17:14:21.051055Z"
    }
   },
   "outputs": [
    {
     "data": {
      "text/plain": [
       "(1, 16)"
      ]
     },
     "execution_count": 2,
     "metadata": {},
     "output_type": "execute_result"
    }
   ],
   "source": [
    "from pyforestry.base.helpers import enum_code\n",
    "from pyforestry.sweden.site.enums import Sweden\n",
    "\n",
    "enum_code(Sweden.SoilMoistureEnum.DRY), enum_code(Sweden.County.UPPSALA)\n"
   ]
  },
  {
   "cell_type": "code",
   "execution_count": 3,
   "id": "fa37c9a1",
   "metadata": {
    "execution": {
     "iopub.execute_input": "2025-07-17T17:14:21.053431Z",
     "iopub.status.busy": "2025-07-17T17:14:21.053262Z",
     "iopub.status.idle": "2025-07-17T17:14:21.064211Z",
     "shell.execute_reply": "2025-07-17T17:14:21.063631Z"
    }
   },
   "outputs": [
    {
     "data": {
      "text/plain": [
       "26.672815668837686"
      ]
     },
     "execution_count": 3,
     "metadata": {},
     "output_type": "execute_result"
    }
   ],
   "source": [
    "from pyforestry.sweden.siteindex.sis.hagglund_lundmark_1979 import Hagglund_Lundmark_1979_SIS\n",
    "\n",
    "sis = Hagglund_Lundmark_1979_SIS(\n",
    "    species='Picea abies',\n",
    "    latitude=60,\n",
    "    altitude=100,\n",
    "    soil_moisture=Sweden.SoilMoistureEnum.MESIC,\n",
    "    ground_layer=Sweden.BottomLayer.FRESH_MOSS,\n",
    "    vegetation=Sweden.FieldLayer.BILBERRY,\n",
    "    soil_texture=Sweden.SoilTextureTill.SANDY,\n",
    "    climate_code=Sweden.ClimateZone.K1,\n",
    "    lateral_water=Sweden.SoilWater.SELDOM_NEVER,\n",
    "    soil_depth=Sweden.SoilDepth.DEEP,\n",
    "    incline_percent=5,\n",
    "    aspect=0,\n",
    "    nfi_adjustments=True,\n",
    "    dlan=Sweden.County.UPPSALA,\n",
    "    peat=False,\n",
    "    gotland=False,\n",
    "    coast=False,\n",
    "    limes_norrlandicus=False,\n",
    ")\n",
    "float(sis)\n"
   ]
  },
  {
   "cell_type": "markdown",
   "id": "99543c82",
   "metadata": {},
   "source": [
    "Geographic utilities and climate calculations."
   ]
  },
  {
   "cell_type": "code",
   "execution_count": 4,
   "id": "01689bd6",
   "metadata": {
    "execution": {
     "iopub.execute_input": "2025-07-17T17:14:21.066156Z",
     "iopub.status.busy": "2025-07-17T17:14:21.065774Z",
     "iopub.status.idle": "2025-07-17T17:14:21.210262Z",
     "shell.execute_reply": "2025-07-17T17:14:21.209613Z"
    }
   },
   "outputs": [],
   "source": [
    "from pyforestry.sweden.geo import Moren_Perttu_radiation_1994, RetrieveGeoCode\n",
    "\n",
    "RetrieveGeoCode.getDistanceToCoast(14.784528, 56.892405)\n",
    "RetrieveGeoCode.getClimateCode(14.784528, 56.892405)\n"
   ]
  },
  {
   "cell_type": "code",
   "execution_count": 5,
   "id": "e45b1c36",
   "metadata": {
    "execution": {
     "iopub.execute_input": "2025-07-17T17:14:21.212337Z",
     "iopub.status.busy": "2025-07-17T17:14:21.212096Z",
     "iopub.status.idle": "2025-07-17T17:14:21.216270Z",
     "shell.execute_reply": "2025-07-17T17:14:21.215807Z"
    }
   },
   "outputs": [
    {
     "data": {
      "text/plain": [
       "(1216.3800000000003, 1266.3800000000003)"
      ]
     },
     "execution_count": 5,
     "metadata": {},
     "output_type": "execute_result"
    }
   ],
   "source": [
    "calc = Moren_Perttu_radiation_1994(latitude=60, altitude=100, july_avg_temp=17, jan_avg_temp=-8)\n",
    "calc.calculate_temperature_sum_1000m(threshold_temperature=5), calc.get_corrected_temperature_sum(threshold_temperature=5)\n"
   ]
  }
 ],
 "metadata": {
  "kernelspec": {
   "display_name": "Python 3",
   "language": "python",
   "name": "python3"
  },
  "language_info": {
   "codemirror_mode": {
    "name": "ipython",
    "version": 3
   },
   "file_extension": ".py",
   "mimetype": "text/x-python",
   "name": "python",
   "nbconvert_exporter": "python",
   "pygments_lexer": "ipython3",
   "version": "3.12.11"
  }
 },
 "nbformat": 4,
 "nbformat_minor": 5
}
