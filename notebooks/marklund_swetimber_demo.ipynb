{
 "cells": [
  {
   "cell_type": "markdown",
   "id": "3ff92474",
   "metadata": {},
   "source": [
    "# Marklund biomass with SweTimber"
   ]
  },
  {
   "cell_type": "markdown",
   "id": "9bff725c",
   "metadata": {},
   "source": [
    "This notebook demonstrates how to combine the `SweTimber` helper class with the `Marklund_1988` biomass wrapper."
   ]
  },
  {
   "cell_type": "code",
   "execution_count": 1,
   "id": "37d2ffeb",
   "metadata": {
    "execution": {
     "iopub.execute_input": "2025-07-17T18:57:49.312993Z",
     "iopub.status.busy": "2025-07-17T18:57:49.312804Z",
     "iopub.status.idle": "2025-07-17T18:57:49.919583Z",
     "shell.execute_reply": "2025-07-17T18:57:49.918895Z"
    }
   },
   "outputs": [],
   "source": [
    "from pyforestry.sweden.biomass import Marklund_1988\n",
    "from pyforestry.sweden.timber import SweTimber"
   ]
  },
  {
   "cell_type": "code",
   "execution_count": 2,
   "id": "6a209940",
   "metadata": {
    "execution": {
     "iopub.execute_input": "2025-07-17T18:57:49.922128Z",
     "iopub.status.busy": "2025-07-17T18:57:49.921532Z",
     "iopub.status.idle": "2025-07-17T18:57:49.924990Z",
     "shell.execute_reply": "2025-07-17T18:57:49.924394Z"
    }
   },
   "outputs": [],
   "source": [
    "# Construct a SweTimber instance\n",
    "pine = SweTimber(\n",
    "    species=\"pinus sylvestris\",\n",
    "    diameter_cm=25,\n",
    "    height_m=15,\n",
    "    double_bark_mm=15,\n",
    "    crown_base_height_m=7\n",
    ")"
   ]
  },
  {
   "cell_type": "code",
   "execution_count": 3,
   "id": "57346a71",
   "metadata": {
    "execution": {
     "iopub.execute_input": "2025-07-17T18:57:49.926749Z",
     "iopub.status.busy": "2025-07-17T18:57:49.926565Z",
     "iopub.status.idle": "2025-07-17T18:57:49.932886Z",
     "shell.execute_reply": "2025-07-17T18:57:49.932306Z"
    }
   },
   "outputs": [
    {
     "data": {
      "text/plain": [
       "{'stem': np.float64(138.17212824703805),\n",
       " 'stem_wood': np.float64(125.74493189426362),\n",
       " 'stem_bark': np.float64(10.572288353477234),\n",
       " 'living_branches': np.float64(7.419433610116955),\n",
       " 'needles': np.float64(3.5667312294648026),\n",
       " 'dead_branches': np.float64(1.0440901553242214),\n",
       " 'stump_root_system': np.float64(13.045246317168706),\n",
       " 'stump': np.float64(25.30894605743497)}"
      ]
     },
     "execution_count": 3,
     "metadata": {},
     "output_type": "execute_result"
    }
   ],
   "source": [
    "# Calculate biomass for all components\n",
    "Marklund_1988(pine)"
   ]
  },
  {
   "cell_type": "code",
   "execution_count": 4,
   "id": "13cf03af",
   "metadata": {
    "execution": {
     "iopub.execute_input": "2025-07-17T18:57:49.934939Z",
     "iopub.status.busy": "2025-07-17T18:57:49.934512Z",
     "iopub.status.idle": "2025-07-17T18:57:49.938558Z",
     "shell.execute_reply": "2025-07-17T18:57:49.937960Z"
    }
   },
   "outputs": [
    {
     "data": {
      "text/plain": [
       "np.float64(138.17212824703805)"
      ]
     },
     "execution_count": 4,
     "metadata": {},
     "output_type": "execute_result"
    }
   ],
   "source": [
    "# Retrieve only the stem biomass\n",
    "Marklund_1988(pine, component=\"stem\")"
   ]
  }
 ],
 "metadata": {
  "kernelspec": {
   "display_name": "Python 3",
   "language": "python",
   "name": "python3"
  },
  "language_info": {
   "codemirror_mode": {
    "name": "ipython",
    "version": 3
   },
   "file_extension": ".py",
   "mimetype": "text/x-python",
   "name": "python",
   "nbconvert_exporter": "python",
   "pygments_lexer": "ipython3",
   "version": "3.12.11"
  }
 },
 "nbformat": 4,
 "nbformat_minor": 5
}
